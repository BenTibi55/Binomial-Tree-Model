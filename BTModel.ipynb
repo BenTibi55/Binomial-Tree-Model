{
 "cells": [
  {
   "cell_type": "code",
   "execution_count": 3,
   "id": "c15b0b16-b230-4612-8dbb-94389cc58f7f",
   "metadata": {},
   "outputs": [
    {
     "name": "stdout",
     "output_type": "stream",
     "text": [
      "Prix du Call américain : 10.25340904487194\n"
     ]
    }
   ],
   "source": [
    "import numpy as np\n",
    "def american_option_binomial(S, K, T, r, sigma, N, option_type='call'):\n",
    "    dt = T / N  # Pas de temps\n",
    "    u = np.exp(sigma * np.sqrt(dt))  # Facteur de hausse\n",
    "    d = 1 / u  # Facteur de baisse\n",
    "    q = (np.exp(r * dt) - d) / (u - d)  # Probabilité neutre au risque\n",
    "\n",
    "    # Construction de l'arbre des prix de l'actif sous-jacent\n",
    "    stock_price_tree = np.zeros((N + 1, N + 1))\n",
    "    for i in range(N + 1):\n",
    "        for j in range(i + 1):\n",
    "            stock_price_tree[j, i] = S * (u ** (i - j)) * (d ** j)\n",
    "            \n",
    "\n",
    "    # Construction de l'arbre des valeurs d'option\n",
    "    option_tree = np.zeros((N + 1, N + 1))\n",
    "    if option_type == 'call':\n",
    "        option_tree[:, N] = np.maximum(stock_price_tree[:, N] - K, 0)\n",
    "    else:  # put\n",
    "        option_tree[:, N] = np.maximum(K - stock_price_tree[:, N], 0)\n",
    "\n",
    "    # Remplissage de l'arbre des valeurs d'option\n",
    "    for i in range(N - 1, -1, -1):\n",
    "        for j in range(i + 1):\n",
    "            option_tree[j, i] = max((q * option_tree[j, i + 1] + (1 - q) * option_tree[j + 1, i + 1]) / np.exp(r * dt), \n",
    "                                    stock_price_tree[j, i] - K if option_type == 'call' else K - stock_price_tree[j, i])\n",
    "\n",
    "    return option_tree[0, 0]\n",
    "\n",
    "# Exemple d'utilisation\n",
    "S = 100  # Prix initial de l'actif\n",
    "K = 100  # Prix d'exercice\n",
    "T = 1    # Temps jusqu'à l'expiration (1 an)\n",
    "r = 0.05  # Taux d'intérêt sans risque\n",
    "sigma = 0.2  # Volatilité\n",
    "N = 10  # Nombre de pas\n",
    "\n",
    "# Calcul du prix d'un Call américain\n",
    "prix_call = american_option_binomial(S, K, T, r, sigma, N, 'call')\n",
    "print(f\"Prix du Call américain : {prix_call}\")\n",
    "\n",
    "# Calcul du prix d'un Put américain\n",
    "prix_put = american_option_binomial(S, K, T, r, sigma, N, 'put')"
   ]
  },
  {
   "cell_type": "code",
   "execution_count": null,
   "id": "89ba3ed8-02bf-4a4f-b986-4953419e7c42",
   "metadata": {},
   "outputs": [],
   "source": []
  }
 ],
 "metadata": {
  "kernelspec": {
   "display_name": "Python 3 (ipykernel)",
   "language": "python",
   "name": "python3"
  },
  "language_info": {
   "codemirror_mode": {
    "name": "ipython",
    "version": 3
   },
   "file_extension": ".py",
   "mimetype": "text/x-python",
   "name": "python",
   "nbconvert_exporter": "python",
   "pygments_lexer": "ipython3",
   "version": "3.9.13"
  }
 },
 "nbformat": 4,
 "nbformat_minor": 5
}
