{
 "cells": [
  {
   "cell_type": "code",
   "execution_count": 5,
   "id": "4862a66c-6771-45e4-802d-038a2c218992",
   "metadata": {},
   "outputs": [],
   "source": [
    "import numpy as np\n"
   ]
  },
  {
   "cell_type": "code",
   "execution_count": 15,
   "id": "b7f9253d-ccde-4dcb-8860-9f2acee0f9a7",
   "metadata": {},
   "outputs": [
    {
     "name": "stdout",
     "output_type": "stream",
     "text": [
      "100.0\n"
     ]
    }
   ],
   "source": [
    "def american_option_value_at_step(S, K, T, r, sigma, N, step, option_type):\n",
    "    dt = T / N  # time step\n",
    "    u = np.exp(sigma * np.sqrt(dt))  # up factor\n",
    "    d = 1 / u  # down factor\n",
    "    p = (np.exp(r * dt) - d) / (u - d)  # risk neutral probability\n",
    "\n",
    "    # Initialize asset price at each node\n",
    "    ST = np.zeros((N+1, N+1))\n",
    "    for i in range(N+1):\n",
    "        ST[i, :i+1] = S * (u ** np.arange(i, -1, -1)) * (d ** np.arange(0, i+1))\n",
    "\n",
    "    # Initialize option values at maturity\n",
    "    if option_type == 'call':\n",
    "        option = np.maximum(ST - K, 0)\n",
    "    else:  # put\n",
    "        option = np.maximum(K - ST, 0)\n",
    "\n",
    "    # Calculate option value at each node\n",
    "    for j in range(N-1, -1, -1):\n",
    "        for i in range(j+1):\n",
    "            early_exercise_value = (K - ST[i, j]) if option_type == 'put' else (ST[i, j] - K)\n",
    "            hold_value = (option[i, j+1] * p + option[i+1, j+1] * (1-p)) * np.exp(-r * dt)\n",
    "            option[i, j] = max(early_exercise_value, hold_value)\n",
    "\n",
    "            # If we've reached the specified step, return the option value at this point\n",
    "            if j == step:\n",
    "                return option[0, step]\n",
    "\n",
    "# Example: Get option value at step 50 (halfway for N=100)\n",
    "S = 100  # Stock price\n",
    "K = 100  # Strike price\n",
    "T = 1    # Time to maturity in years\n",
    "r = 0.05 # Risk-free rate\n",
    "sigma = 0.2 # Volatility\n",
    "N = 100  # Number of steps\n",
    "price_at_step_value = american_option_value_at_step(S, K, T, r, sigma, N, 50, 'put')\n",
    "print(price_at_step_value)\n"
   ]
  },
  {
   "cell_type": "code",
   "execution_count": null,
   "id": "a36f75d6-2a44-4b3d-b721-51d69f6dd3e5",
   "metadata": {},
   "outputs": [],
   "source": []
  },
  {
   "cell_type": "code",
   "execution_count": null,
   "id": "6773aeb0-22a1-4907-bf6f-2bd55d5d8fc1",
   "metadata": {},
   "outputs": [],
   "source": []
  }
 ],
 "metadata": {
  "kernelspec": {
   "display_name": "Python 3 (ipykernel)",
   "language": "python",
   "name": "python3"
  },
  "language_info": {
   "codemirror_mode": {
    "name": "ipython",
    "version": 3
   },
   "file_extension": ".py",
   "mimetype": "text/x-python",
   "name": "python",
   "nbconvert_exporter": "python",
   "pygments_lexer": "ipython3",
   "version": "3.9.13"
  }
 },
 "nbformat": 4,
 "nbformat_minor": 5
}
